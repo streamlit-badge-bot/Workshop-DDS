{
  "nbformat": 4,
  "nbformat_minor": 0,
  "metadata": {
    "colab": {
      "name": "Introdução ao Python para Data Science.ipynb",
      "provenance": [],
      "collapsed_sections": [],
      "authorship_tag": "ABX9TyO4OkE//R8j71vj05tLQL6n",
      "include_colab_link": true
    },
    "kernelspec": {
      "name": "python3",
      "display_name": "Python 3"
    }
  },
  "cells": [
    {
      "cell_type": "markdown",
      "metadata": {
        "id": "view-in-github",
        "colab_type": "text"
      },
      "source": [
        "<a href=\"https://colab.research.google.com/github/gitflai/Workshop-DDS/blob/main/Introdu%C3%A7%C3%A3o_ao_Python_para_Data_Science.ipynb\" target=\"_parent\"><img src=\"https://colab.research.google.com/assets/colab-badge.svg\" alt=\"Open In Colab\"/></a>"
      ]
    },
    {
      "cell_type": "markdown",
      "metadata": {
        "id": "SvX7azL28oPh"
      },
      "source": [
        "## **Nosso primeiro Notebook do Colab**\n",
        "---\n",
        "Equação $$\\int_a^bf(x)dx = F(b) - F(a)$$"
      ]
    },
    {
      "cell_type": "markdown",
      "metadata": {
        "id": "-AvQ6iR08zUW"
      },
      "source": [
        "### Atribuição de Variáveis\n",
        "\n",
        "\n",
        "\n"
      ]
    },
    {
      "cell_type": "code",
      "metadata": {
        "id": "J4_3f0lj-JuN"
      },
      "source": [
        "meunome = 'Ricardo'\n",
        "sobrenome = \"Rocha\""
      ],
      "execution_count": null,
      "outputs": []
    },
    {
      "cell_type": "code",
      "metadata": {
        "id": "wkdm_pbh-7xM"
      },
      "source": [
        "nome, sobrenome, idade = 'Ricardo', 'Rocha', 34"
      ],
      "execution_count": null,
      "outputs": []
    },
    {
      "cell_type": "code",
      "metadata": {
        "colab": {
          "base_uri": "https://localhost:8080/"
        },
        "id": "shimosKM-M1I",
        "outputId": "7324b44b-f209-41e4-8ad4-306713532b3c"
      },
      "source": [
        "frase = 'O nome do professor é {} {}, e disse que tem {} anos.'.format(nome, sobrenome, idade)\n",
        "print(frase)"
      ],
      "execution_count": null,
      "outputs": [
        {
          "output_type": "stream",
          "text": [
            "O nome do professor é Ricardo Rocha, e disse que tem 34 anos.\n"
          ],
          "name": "stdout"
        }
      ]
    },
    {
      "cell_type": "code",
      "metadata": {
        "id": "ZuJnS5pQ_6d9"
      },
      "source": [
        "meu_nome = 'Ricardo'"
      ],
      "execution_count": null,
      "outputs": []
    },
    {
      "cell_type": "markdown",
      "metadata": {
        "id": "EKR0YxtJ_8S2"
      },
      "source": [
        "### Aritmética"
      ]
    },
    {
      "cell_type": "code",
      "metadata": {
        "id": "-42d9e-LAuUi"
      },
      "source": [
        "a, b = 7, 2"
      ],
      "execution_count": null,
      "outputs": []
    },
    {
      "cell_type": "code",
      "metadata": {
        "colab": {
          "base_uri": "https://localhost:8080/"
        },
        "id": "yIrm7EdJAw44",
        "outputId": "b49f16d9-3ff4-45ca-e6a9-61827646f3ba"
      },
      "source": [
        "print('a + b =', a + b)\n",
        "print('a - b =', a - b)\n",
        "print('a * b =', a * b)\n",
        "print('a / b =', a / b)\n",
        "\n",
        "print('a ^ b =', a ** b)\n",
        "print('Divisao inteira de a por b:', a // b)\n",
        "print('Resto da divisao de a por b:', a % b)  "
      ],
      "execution_count": null,
      "outputs": [
        {
          "output_type": "stream",
          "text": [
            "a + b = 9\n",
            "a - b = 5\n",
            "a * b = 14\n",
            "a / b = 3.5\n",
            "a ^ b = 49\n",
            "Divisao inteira de a por b: 3\n",
            "Resto da divisao de a por b: 1\n"
          ],
          "name": "stdout"
        }
      ]
    },
    {
      "cell_type": "markdown",
      "metadata": {
        "id": "XGqtY_MaBWXs"
      },
      "source": [
        "### Booleanos"
      ]
    },
    {
      "cell_type": "code",
      "metadata": {
        "colab": {
          "base_uri": "https://localhost:8080/"
        },
        "id": "IR3ZiAZjA2AY",
        "outputId": "01b087cc-8ef2-4471-c6dc-c71830e66a1d"
      },
      "source": [
        "print(a)\n",
        "print(b)"
      ],
      "execution_count": null,
      "outputs": [
        {
          "output_type": "stream",
          "text": [
            "7\n",
            "2\n"
          ],
          "name": "stdout"
        }
      ]
    },
    {
      "cell_type": "code",
      "metadata": {
        "colab": {
          "base_uri": "https://localhost:8080/"
        },
        "id": "HHqvx8bOBfXe",
        "outputId": "9d2e6500-9763-4a1d-c846-4530297509c6"
      },
      "source": [
        "a > 3 and b > 1"
      ],
      "execution_count": null,
      "outputs": [
        {
          "output_type": "execute_result",
          "data": {
            "text/plain": [
              "True"
            ]
          },
          "metadata": {
            "tags": []
          },
          "execution_count": 55
        }
      ]
    },
    {
      "cell_type": "code",
      "metadata": {
        "colab": {
          "base_uri": "https://localhost:8080/"
        },
        "id": "c8jJXa62Byq0",
        "outputId": "07ef1a0a-0484-40e5-8a9d-40c4f400de2e"
      },
      "source": [
        "True or False"
      ],
      "execution_count": null,
      "outputs": [
        {
          "output_type": "execute_result",
          "data": {
            "text/plain": [
              "True"
            ]
          },
          "metadata": {
            "tags": []
          },
          "execution_count": 49
        }
      ]
    },
    {
      "cell_type": "code",
      "metadata": {
        "colab": {
          "base_uri": "https://localhost:8080/"
        },
        "id": "zDUbWuc3B9qF",
        "outputId": "58c2d0ea-ee02-40a7-c052-b50d880eff26"
      },
      "source": [
        "True and True"
      ],
      "execution_count": null,
      "outputs": [
        {
          "output_type": "execute_result",
          "data": {
            "text/plain": [
              "True"
            ]
          },
          "metadata": {
            "tags": []
          },
          "execution_count": 51
        }
      ]
    },
    {
      "cell_type": "code",
      "metadata": {
        "colab": {
          "base_uri": "https://localhost:8080/"
        },
        "id": "w-Yove65CVwu",
        "outputId": "ec97fc0e-6b33-49ac-f6b2-c0f0cb8314b9"
      },
      "source": [
        "not False"
      ],
      "execution_count": null,
      "outputs": [
        {
          "output_type": "execute_result",
          "data": {
            "text/plain": [
              "True"
            ]
          },
          "metadata": {
            "tags": []
          },
          "execution_count": 57
        }
      ]
    },
    {
      "cell_type": "markdown",
      "metadata": {
        "id": "d-qEQFflCgqa"
      },
      "source": [
        "### Condicionais"
      ]
    },
    {
      "cell_type": "code",
      "metadata": {
        "id": "VBnpZ0ZDCjRK"
      },
      "source": [
        "IF - ELIF - ELSE\n",
        "\n",
        "if condicao_se_verdadeira:\n",
        "    executa aqui\n",
        "    executa aqui \n",
        "elif condicao_alternativa:\n",
        "    executa aqui\n",
        "else:    #caso nenhuma das condicoes sejam satisfeitas\n",
        "    executa aqui"
      ],
      "execution_count": null,
      "outputs": []
    },
    {
      "cell_type": "code",
      "metadata": {
        "id": "J9fWBU0eDaCj"
      },
      "source": [
        "a = 1\n",
        "b = -2\n",
        "c = 3"
      ],
      "execution_count": null,
      "outputs": []
    },
    {
      "cell_type": "code",
      "metadata": {
        "id": "EzZ5geI9DfN7"
      },
      "source": [
        ""
      ],
      "execution_count": null,
      "outputs": []
    },
    {
      "cell_type": "code",
      "metadata": {
        "colab": {
          "base_uri": "https://localhost:8080/"
        },
        "id": "Ld2-VH-HDhqh",
        "outputId": "d24568e3-6359-4d72-fb9c-1c7d5fe38bc9"
      },
      "source": [
        "\n",
        "\n",
        "delta "
      ],
      "execution_count": null,
      "outputs": [
        {
          "output_type": "execute_result",
          "data": {
            "text/plain": [
              "0"
            ]
          },
          "metadata": {
            "tags": []
          },
          "execution_count": 84
        }
      ]
    },
    {
      "cell_type": "code",
      "metadata": {
        "colab": {
          "base_uri": "https://localhost:8080/"
        },
        "id": "TNIJXgNmFHra",
        "outputId": "cdd70bb8-fb37-4899-ecb3-268c1fc6905a"
      },
      "source": [
        "a == 2"
      ],
      "execution_count": null,
      "outputs": [
        {
          "output_type": "execute_result",
          "data": {
            "text/plain": [
              "False"
            ]
          },
          "metadata": {
            "tags": []
          },
          "execution_count": 76
        }
      ]
    },
    {
      "cell_type": "code",
      "metadata": {
        "colab": {
          "base_uri": "https://localhost:8080/"
        },
        "id": "hPp64GjuECxx",
        "outputId": "f250aa0f-716f-4a20-ddb3-192ce3909850"
      },
      "source": [
        "a, b, c = -1, -1, 1\n",
        "\n",
        "delta = b**2 - 4*a*c\n",
        "\n",
        "if delta > 0:\n",
        "    print('Essa equação possui duas raízes reais.')\n",
        "    x1 = (-b + delta**(1/2))/(2*a)\n",
        "    x2 = (-b - delta**(1/2))/(2*a)\n",
        "    print('A raíz 1 é:', round(x1, 2) )\n",
        "    print('A raíz 2 é:', round(x2, 2))\n",
        "\n",
        "elif delta == 0:\n",
        "    print('Essa equação possui uma raíz real.')\n",
        "    x = -b/(2*a) \n",
        "    print('A raíz é:', round(x, 2) )\n",
        "\n",
        "else: \n",
        "    print('Essa equação não possui raízes reais')\n"
      ],
      "execution_count": null,
      "outputs": [
        {
          "output_type": "stream",
          "text": [
            "Essa equação possui duas raízes reais.\n",
            "A raíz 1 é: -1.62\n",
            "A raíz 2 é: 0.62\n"
          ],
          "name": "stdout"
        }
      ]
    },
    {
      "cell_type": "markdown",
      "metadata": {
        "id": "kraFnEByFA-v"
      },
      "source": [
        "### Definindo Funções Próprias"
      ]
    },
    {
      "cell_type": "code",
      "metadata": {
        "id": "6V_BGSNVGYvP"
      },
      "source": [
        "def MinhaFuncao(nome, tamanho = 20):\n",
        "    print('-' * tamanho)\n",
        "    print('*' * tamanho)\n",
        "    print(' Meu nome é {}'.format(nome))\n",
        "    print('*' * tamanho)\n",
        "    print('-' * tamanho)"
      ],
      "execution_count": null,
      "outputs": []
    },
    {
      "cell_type": "code",
      "metadata": {
        "colab": {
          "base_uri": "https://localhost:8080/"
        },
        "id": "igdBgs2kGn_t",
        "outputId": "ea553b41-7916-4426-ea6b-8a2e1898dc8a"
      },
      "source": [
        "MinhaFuncao(nome = 'Rafael')"
      ],
      "execution_count": null,
      "outputs": [
        {
          "output_type": "stream",
          "text": [
            "--------------------\n",
            "********************\n",
            " Meu nome é Rafael\n",
            "********************\n",
            "--------------------\n"
          ],
          "name": "stdout"
        }
      ]
    },
    {
      "cell_type": "code",
      "metadata": {
        "id": "C8wZsuVdH2EJ"
      },
      "source": [
        "def Bhaskara(a, b, c): \n",
        "\n",
        "    delta = b**2 - 4*a*c\n",
        "\n",
        "    if delta > 0:\n",
        "        print('Essa equação possui duas raízes reais.')\n",
        "        x1 = (-b + delta**(1/2))/(2*a)\n",
        "        x2 = (-b - delta**(1/2))/(2*a)\n",
        "        print('A raíz 1 é:', round(x1, 2) )\n",
        "        print('A raíz 2 é:', round(x2, 2))\n",
        "\n",
        "    elif delta == 0:\n",
        "        print('Essa equação possui uma raíz real.')\n",
        "        x = -b/(2*a) \n",
        "        print('A raíz é:', round(x, 2) )\n",
        "\n",
        "    else: \n",
        "        print('Essa equação não possui raízes reais')"
      ],
      "execution_count": null,
      "outputs": []
    },
    {
      "cell_type": "code",
      "metadata": {
        "colab": {
          "base_uri": "https://localhost:8080/"
        },
        "id": "pRx9rx3fIIyM",
        "outputId": "9c501e43-cb54-435f-bf82-699f16daca3e"
      },
      "source": [
        "Bhaskara(a = 1, b = -2, c = 1)"
      ],
      "execution_count": null,
      "outputs": [
        {
          "output_type": "stream",
          "text": [
            "Essa equação possui uma raíz real.\n",
            "A raíz é: 1.0\n"
          ],
          "name": "stdout"
        }
      ]
    },
    {
      "cell_type": "code",
      "metadata": {
        "colab": {
          "base_uri": "https://localhost:8080/"
        },
        "id": "yp-3x0chIMjV",
        "outputId": "8cc8af33-a417-47b5-bd4c-7de53c9eb2a6"
      },
      "source": [
        "Bhaskara(1, -2, 0)"
      ],
      "execution_count": null,
      "outputs": [
        {
          "output_type": "stream",
          "text": [
            "Essa equação possui duas raízes reais.\n",
            "A raíz 1 é: 2.0\n",
            "A raíz 2 é: 0.0\n"
          ],
          "name": "stdout"
        }
      ]
    },
    {
      "cell_type": "markdown",
      "metadata": {
        "id": "e1lIr-7yIfPn"
      },
      "source": [
        "### LISTAS"
      ]
    },
    {
      "cell_type": "code",
      "metadata": {
        "id": "8BeqD28-Iml-"
      },
      "source": [
        "lista = ['Ricardo', 34, print]"
      ],
      "execution_count": null,
      "outputs": []
    },
    {
      "cell_type": "code",
      "metadata": {
        "colab": {
          "base_uri": "https://localhost:8080/"
        },
        "id": "HqWYu9trIycV",
        "outputId": "aeb9df1b-b205-4e14-eba3-d6f65de759ca"
      },
      "source": [
        "lista[2]"
      ],
      "execution_count": null,
      "outputs": [
        {
          "output_type": "execute_result",
          "data": {
            "text/plain": [
              "<function print>"
            ]
          },
          "metadata": {
            "tags": []
          },
          "execution_count": 124
        }
      ]
    },
    {
      "cell_type": "code",
      "metadata": {
        "id": "zCb_OZsWJL0V"
      },
      "source": [
        "nomes = ['Alice', 'Barbara', 'Carla', 'Daiana', 'Emily']"
      ],
      "execution_count": null,
      "outputs": []
    },
    {
      "cell_type": "code",
      "metadata": {
        "colab": {
          "base_uri": "https://localhost:8080/"
        },
        "id": "8TsH15QJJQ14",
        "outputId": "80972bac-f103-4f59-8217-ea2c21a50228"
      },
      "source": [
        "nomes"
      ],
      "execution_count": null,
      "outputs": [
        {
          "output_type": "execute_result",
          "data": {
            "text/plain": [
              "['Alice', 'Barbara', 'Carla', 'Daiana', 'Emily']"
            ]
          },
          "metadata": {
            "tags": []
          },
          "execution_count": 126
        }
      ]
    },
    {
      "cell_type": "code",
      "metadata": {
        "id": "vpslZG4UJRQH"
      },
      "source": [
        "nomes.append('Fabiana')"
      ],
      "execution_count": null,
      "outputs": []
    },
    {
      "cell_type": "code",
      "metadata": {
        "id": "AFjCJiiCJUCv"
      },
      "source": [
        "M = 'Marcia'"
      ],
      "execution_count": null,
      "outputs": []
    },
    {
      "cell_type": "code",
      "metadata": {
        "colab": {
          "base_uri": "https://localhost:8080/"
        },
        "id": "y_dJzmIrJvoG",
        "outputId": "cf07e04a-a18f-4c89-eb48-19802f600c50"
      },
      "source": [
        "lista = ['Ricardo', 34, [1 , 2, 3, ['A', 'B']]]\n",
        "lista"
      ],
      "execution_count": null,
      "outputs": [
        {
          "output_type": "execute_result",
          "data": {
            "text/plain": [
              "['Ricardo', 34, [1, 2, 3, ['A', 'B']]]"
            ]
          },
          "metadata": {
            "tags": []
          },
          "execution_count": 149
        }
      ]
    },
    {
      "cell_type": "code",
      "metadata": {
        "colab": {
          "base_uri": "https://localhost:8080/",
          "height": 35
        },
        "id": "lwy17Z1GKO42",
        "outputId": "e00dd90c-5cc8-4f39-9752-c7ac4997e559"
      },
      "source": [
        "lista[2][3][1]"
      ],
      "execution_count": null,
      "outputs": [
        {
          "output_type": "execute_result",
          "data": {
            "application/vnd.google.colaboratory.intrinsic+json": {
              "type": "string"
            },
            "text/plain": [
              "'B'"
            ]
          },
          "metadata": {
            "tags": []
          },
          "execution_count": 148
        }
      ]
    },
    {
      "cell_type": "markdown",
      "metadata": {
        "id": "5snS242LK8Qb"
      },
      "source": [
        "### CONJUNTOS"
      ]
    },
    {
      "cell_type": "code",
      "metadata": {
        "id": "ZsneNS4oLEI4"
      },
      "source": [
        "churras1 = {'carne', 'pao', 'linguica', 'cerveja', 'vinagrete', 'carne'}\n",
        "churras2 = {'frango', 'pao', 'linguica', 'refrigerante'}"
      ],
      "execution_count": null,
      "outputs": []
    },
    {
      "cell_type": "code",
      "metadata": {
        "colab": {
          "base_uri": "https://localhost:8080/"
        },
        "id": "hcRXtuJiLkUO",
        "outputId": "c66ef1be-38f3-49e5-82a0-d591ca837f96"
      },
      "source": [
        "churras1.union(churras2)"
      ],
      "execution_count": null,
      "outputs": [
        {
          "output_type": "execute_result",
          "data": {
            "text/plain": [
              "{'carne', 'cerveja', 'frango', 'linguica', 'pao', 'refrigerante', 'vinagrete'}"
            ]
          },
          "metadata": {
            "tags": []
          },
          "execution_count": 154
        }
      ]
    },
    {
      "cell_type": "code",
      "metadata": {
        "colab": {
          "base_uri": "https://localhost:8080/"
        },
        "id": "67uLJUJKLqbP",
        "outputId": "d5773b6f-0294-4432-828f-a4d8a972f3e1"
      },
      "source": [
        "churras1.intersection(churras2)"
      ],
      "execution_count": null,
      "outputs": [
        {
          "output_type": "execute_result",
          "data": {
            "text/plain": [
              "{'linguica', 'pao'}"
            ]
          },
          "metadata": {
            "tags": []
          },
          "execution_count": 156
        }
      ]
    },
    {
      "cell_type": "code",
      "metadata": {
        "id": "-tozR15mL5vN"
      },
      "source": [
        ""
      ],
      "execution_count": null,
      "outputs": []
    },
    {
      "cell_type": "markdown",
      "metadata": {
        "id": "XqCuCLzqMAvk"
      },
      "source": [
        "### IMPORTANDO UMA BIBLIOTECA "
      ]
    },
    {
      "cell_type": "code",
      "metadata": {
        "id": "GyZX-BbGMFNF"
      },
      "source": [
        "import random"
      ],
      "execution_count": 1,
      "outputs": []
    },
    {
      "cell_type": "code",
      "metadata": {
        "colab": {
          "base_uri": "https://localhost:8080/"
        },
        "id": "UMlN8zXtMN-1",
        "outputId": "01e6760e-6efa-42b0-b542-b9c2c2bbe20b"
      },
      "source": [
        "meujogo = set([34, 19, 10, 29, 11, 60])\n",
        "sorteio = set(random.sample(range(1, 61), k = 6))\n",
        "\n",
        "print('Meu jogo:', meujogo)\n",
        "print('Sorteio:', sorteio)\n",
        "\n",
        "acertos = meujogo.intersection(sorteio)\n",
        "numacertos = len(acertos)\n",
        "\n",
        "print('Acertos:', acertos)\n",
        "print('#Acertos:', numacertos)"
      ],
      "execution_count": 9,
      "outputs": [
        {
          "output_type": "stream",
          "text": [
            "Meu jogo: {34, 10, 11, 19, 60, 29}\n",
            "Sorteio: {32, 3, 10, 11, 18, 19}\n",
            "Acertos: {19, 10, 11}\n",
            "#Acertos: 3\n"
          ],
          "name": "stdout"
        }
      ]
    },
    {
      "cell_type": "code",
      "metadata": {
        "colab": {
          "base_uri": "https://localhost:8080/"
        },
        "id": "7uhGwo-MMY5H",
        "outputId": "81f3295b-d563-48b5-842a-5c18c369ac60"
      },
      "source": [
        "type(sorteio)"
      ],
      "execution_count": null,
      "outputs": [
        {
          "output_type": "execute_result",
          "data": {
            "text/plain": [
              "list"
            ]
          },
          "metadata": {
            "tags": []
          },
          "execution_count": 166
        }
      ]
    },
    {
      "cell_type": "code",
      "metadata": {
        "colab": {
          "base_uri": "https://localhost:8080/"
        },
        "id": "o3fT5XJINDQv",
        "outputId": "4824527f-349f-4856-dc18-d5efed05b0e3"
      },
      "source": [
        "set(sorteio)"
      ],
      "execution_count": null,
      "outputs": [
        {
          "output_type": "execute_result",
          "data": {
            "text/plain": [
              "{13, 18, 39, 46, 51, 57}"
            ]
          },
          "metadata": {
            "tags": []
          },
          "execution_count": 167
        }
      ]
    },
    {
      "cell_type": "code",
      "metadata": {
        "id": "MqM4HJh4NJTn",
        "colab": {
          "base_uri": "https://localhost:8080/"
        },
        "outputId": "ec0eb749-210c-4659-d393-5bec49b67ed4"
      },
      "source": [
        "def Megasena():\n",
        "    meujogo = set(random.sample(range(1, 61), k = 6))\n",
        "    sorteio = set(random.sample(range(1, 61), k = 6))\n",
        "\n",
        "    acertos = meujogo.intersection(sorteio)\n",
        "    numacertos = len(acertos)\n",
        "\n",
        "    return numacertos\n",
        "\n",
        "Megasena()"
      ],
      "execution_count": 29,
      "outputs": [
        {
          "output_type": "execute_result",
          "data": {
            "text/plain": [
              "0"
            ]
          },
          "metadata": {
            "tags": []
          },
          "execution_count": 29
        }
      ]
    },
    {
      "cell_type": "markdown",
      "metadata": {
        "id": "uEu8K4qS1N3d"
      },
      "source": [
        "### ITERADORES"
      ]
    },
    {
      "cell_type": "code",
      "metadata": {
        "colab": {
          "base_uri": "https://localhost:8080/"
        },
        "id": "otcdu4eL1PL6",
        "outputId": "e177744b-6f96-4795-e739-4847b3ea2d81"
      },
      "source": [
        "# FOR\n",
        "\n",
        "lista = [1, 2, 3, 4]\n",
        "\n",
        "quadrados = []\n",
        "\n",
        "for i in lista: \n",
        "    quadrados.append(i**2)\n",
        "\n",
        "print(quadrados)"
      ],
      "execution_count": 34,
      "outputs": [
        {
          "output_type": "stream",
          "text": [
            "[1, 4, 9, 16]\n"
          ],
          "name": "stdout"
        }
      ]
    },
    {
      "cell_type": "markdown",
      "metadata": {
        "id": "TQZG55aP2PVW"
      },
      "source": [
        ""
      ]
    },
    {
      "cell_type": "code",
      "metadata": {
        "id": "ep3M5Kia2P54"
      },
      "source": [
        "#exemplo da megasena\n",
        "\n",
        "resultados = []\n",
        "\n",
        "n = 2321\n",
        "\n",
        "for i in range(n):\n",
        "    res = Megasena()\n",
        "    resultados.append(res)"
      ],
      "execution_count": 40,
      "outputs": []
    },
    {
      "cell_type": "code",
      "metadata": {
        "colab": {
          "base_uri": "https://localhost:8080/"
        },
        "id": "3DIrlD3k3GRx",
        "outputId": "3b307458-3805-454a-ab70-9ff9637afda0"
      },
      "source": [
        "resultados.count(4)"
      ],
      "execution_count": 46,
      "outputs": [
        {
          "output_type": "execute_result",
          "data": {
            "text/plain": [
              "1"
            ]
          },
          "metadata": {
            "tags": []
          },
          "execution_count": 46
        }
      ]
    },
    {
      "cell_type": "code",
      "metadata": {
        "colab": {
          "base_uri": "https://localhost:8080/"
        },
        "id": "46KOdjKD3cz4",
        "outputId": "6ddd5a8a-6ee4-4670-fdad-6070e8c4f451"
      },
      "source": [
        "n*4.5"
      ],
      "execution_count": 47,
      "outputs": [
        {
          "output_type": "execute_result",
          "data": {
            "text/plain": [
              "10444.5"
            ]
          },
          "metadata": {
            "tags": []
          },
          "execution_count": 47
        }
      ]
    },
    {
      "cell_type": "code",
      "metadata": {
        "colab": {
          "base_uri": "https://localhost:8080/"
        },
        "id": "_HIj94kZ4f5W",
        "outputId": "597d28a5-bc7c-4eef-8a70-f7390402867d"
      },
      "source": [
        "# while\n",
        "\n",
        "i = 0\n",
        "\n",
        "while i < 10:\n",
        "    i = i + 1\n",
        "    print(i) "
      ],
      "execution_count": 51,
      "outputs": [
        {
          "output_type": "stream",
          "text": [
            "1\n",
            "2\n",
            "3\n",
            "4\n",
            "5\n",
            "6\n",
            "7\n",
            "8\n",
            "9\n",
            "10\n"
          ],
          "name": "stdout"
        }
      ]
    },
    {
      "cell_type": "code",
      "metadata": {
        "id": "kRbWO8No5vHf"
      },
      "source": [
        "tentativas = []\n",
        "\n",
        "for i in range(1000):\n",
        "\n",
        "    res = 0\n",
        "    resultados = []\n",
        "\n",
        "    while res != 4:\n",
        "        res = Megasena()\n",
        "        resultados.append(res)\n",
        " \n",
        "    tentativas.append(len(resultados))\n",
        "\n"
      ],
      "execution_count": 70,
      "outputs": []
    },
    {
      "cell_type": "code",
      "metadata": {
        "colab": {
          "base_uri": "https://localhost:8080/"
        },
        "id": "uu3WVSPB7eL-",
        "outputId": "484196ea-6ec6-4044-f596-dedceb19d69a"
      },
      "source": [
        "sum(tentativas)/1000"
      ],
      "execution_count": 71,
      "outputs": [
        {
          "output_type": "execute_result",
          "data": {
            "text/plain": [
              "2326.079"
            ]
          },
          "metadata": {
            "tags": []
          },
          "execution_count": 71
        }
      ]
    },
    {
      "cell_type": "code",
      "metadata": {
        "id": "Hfi6B98g8Vyu"
      },
      "source": [
        "import numpy as np"
      ],
      "execution_count": 75,
      "outputs": []
    },
    {
      "cell_type": "code",
      "metadata": {
        "colab": {
          "base_uri": "https://localhost:8080/"
        },
        "id": "ststL7qC8jsG",
        "outputId": "d23753a4-3791-4d45-8dec-a31c9c09ec98"
      },
      "source": [
        "np.mean(tentativas)"
      ],
      "execution_count": 76,
      "outputs": [
        {
          "output_type": "execute_result",
          "data": {
            "text/plain": [
              "2326.079"
            ]
          },
          "metadata": {
            "tags": []
          },
          "execution_count": 76
        }
      ]
    },
    {
      "cell_type": "code",
      "metadata": {
        "id": "9aojeoe28oES"
      },
      "source": [
        "x = np.arange(1, 11, 0.5)"
      ],
      "execution_count": 81,
      "outputs": []
    },
    {
      "cell_type": "code",
      "metadata": {
        "colab": {
          "base_uri": "https://localhost:8080/"
        },
        "id": "kU-3SGsa8-S-",
        "outputId": "c786a92a-cd8a-4f8a-e830-b20ad0795c5d"
      },
      "source": [
        "#dim1\n",
        "np.array([1, 2, 3])"
      ],
      "execution_count": 84,
      "outputs": [
        {
          "output_type": "execute_result",
          "data": {
            "text/plain": [
              "array([1, 2])"
            ]
          },
          "metadata": {
            "tags": []
          },
          "execution_count": 84
        }
      ]
    },
    {
      "cell_type": "code",
      "metadata": {
        "colab": {
          "base_uri": "https://localhost:8080/"
        },
        "id": "X4czm7889gt8",
        "outputId": "75955f3c-45e9-4a8e-ff52-85fff0a75db5"
      },
      "source": [
        "#dim2\n",
        "np.array([  [1, 2, 3]  , [2, 6, 4]   ]   )"
      ],
      "execution_count": 85,
      "outputs": [
        {
          "output_type": "execute_result",
          "data": {
            "text/plain": [
              "array([[1, 2, 3],\n",
              "       [2, 6, 4]])"
            ]
          },
          "metadata": {
            "tags": []
          },
          "execution_count": 85
        }
      ]
    },
    {
      "cell_type": "code",
      "metadata": {
        "colab": {
          "base_uri": "https://localhost:8080/"
        },
        "id": "NnhCMWMK-DgB",
        "outputId": "6be31ace-60d3-476d-ab19-2d387ff58304"
      },
      "source": [
        "#dim3\n",
        "np.array([ [  [1, 2, 3]  , [2, 6, 4]   ], [  [1, 2, 3]  , [2, 6, 4]   ]  ])"
      ],
      "execution_count": 86,
      "outputs": [
        {
          "output_type": "execute_result",
          "data": {
            "text/plain": [
              "array([[[1, 2, 3],\n",
              "        [2, 6, 4]],\n",
              "\n",
              "       [[1, 2, 3],\n",
              "        [2, 6, 4]]])"
            ]
          },
          "metadata": {
            "tags": []
          },
          "execution_count": 86
        }
      ]
    },
    {
      "cell_type": "code",
      "metadata": {
        "id": "ksfRcHuV_CW6"
      },
      "source": [
        "lista = [1, 2, 3, 4]\n",
        "\n"
      ],
      "execution_count": 87,
      "outputs": []
    },
    {
      "cell_type": "code",
      "metadata": {
        "colab": {
          "base_uri": "https://localhost:8080/"
        },
        "id": "Mb_Yg8oo_FCp",
        "outputId": "f77599f5-f81d-427b-ca60-37b4b8f969bb"
      },
      "source": [
        "lista * 2"
      ],
      "execution_count": 88,
      "outputs": [
        {
          "output_type": "execute_result",
          "data": {
            "text/plain": [
              "[1, 2, 3, 4, 1, 2, 3, 4]"
            ]
          },
          "metadata": {
            "tags": []
          },
          "execution_count": 88
        }
      ]
    },
    {
      "cell_type": "code",
      "metadata": {
        "colab": {
          "base_uri": "https://localhost:8080/"
        },
        "id": "Pl9u4Grt_Fr1",
        "outputId": "61fb9046-ec3b-4a15-8002-3c48fb782a1f"
      },
      "source": [
        "print(np.array([lista]) + 2)\n",
        "print(np.array([lista]) - 2)\n",
        "print(np.array([lista]) * 2)\n",
        "print(np.array([lista]) / 2)\n",
        "print(np.array([lista]) ** 2)\n",
        "print(np.array([lista]) // 2)\n",
        "print(np.array([lista]) % 2)\n"
      ],
      "execution_count": 93,
      "outputs": [
        {
          "output_type": "stream",
          "text": [
            "[[3 4 5 6]]\n",
            "[[-1  0  1  2]]\n",
            "[[2 4 6 8]]\n",
            "[[0.5 1.  1.5 2. ]]\n",
            "[[ 1  4  9 16]]\n",
            "[[0 1 1 2]]\n",
            "[[1 0 1 0]]\n"
          ],
          "name": "stdout"
        }
      ]
    },
    {
      "cell_type": "code",
      "metadata": {
        "colab": {
          "base_uri": "https://localhost:8080/"
        },
        "id": "lxArb3di_P-L",
        "outputId": "7b4a47b7-3b5d-4ea9-8cde-a18c4f7159ce"
      },
      "source": [
        "np.random.uniform(low = 0, high = 1, size = 10)"
      ],
      "execution_count": 94,
      "outputs": [
        {
          "output_type": "execute_result",
          "data": {
            "text/plain": [
              "array([0.90731386, 0.21212104, 0.91124428, 0.93714223, 0.24405114,\n",
              "       0.30004405, 0.41850687, 0.07426976, 0.44418437, 0.61557741])"
            ]
          },
          "metadata": {
            "tags": []
          },
          "execution_count": 94
        }
      ]
    },
    {
      "cell_type": "code",
      "metadata": {
        "colab": {
          "base_uri": "https://localhost:8080/"
        },
        "id": "fvXxwyQoAZhs",
        "outputId": "943a8b4d-b95b-4a53-fb25-f5f42d869c46"
      },
      "source": [
        "np.random.normal(loc = 5, scale = 1, size = 10)"
      ],
      "execution_count": 95,
      "outputs": [
        {
          "output_type": "execute_result",
          "data": {
            "text/plain": [
              "array([5.34481691, 4.68322122, 6.39632017, 5.91193239, 4.07774417,\n",
              "       6.12696259, 4.64101265, 3.93671983, 4.491651  , 5.5139356 ])"
            ]
          },
          "metadata": {
            "tags": []
          },
          "execution_count": 95
        }
      ]
    },
    {
      "cell_type": "code",
      "metadata": {
        "id": "0RylgjFtAwXS"
      },
      "source": [
        "x = np.arange(1, 10, 0.05)\n",
        "y = 50 - 8*x + x**2 + np.random.normal(0, 3, len(x))\n",
        "\n",
        "reta = a*x**2 + b*x + c"
      ],
      "execution_count": 124,
      "outputs": []
    },
    {
      "cell_type": "code",
      "metadata": {
        "colab": {
          "base_uri": "https://localhost:8080/",
          "height": 282
        },
        "id": "7u0TOzLlA4Zr",
        "outputId": "00274719-d7e0-4cdb-98be-9c839fb8c6be"
      },
      "source": [
        "import matplotlib.pyplot as plt\n",
        "\n",
        "plt.plot(x, y, '.')\n",
        "plt.plot(x, reta)"
      ],
      "execution_count": 125,
      "outputs": [
        {
          "output_type": "execute_result",
          "data": {
            "text/plain": [
              "[<matplotlib.lines.Line2D at 0x7fc7d63dbef0>]"
            ]
          },
          "metadata": {
            "tags": []
          },
          "execution_count": 125
        },
        {
          "output_type": "display_data",
          "data": {
            "image/png": "[encoded data removed]",
            "text/plain": [
              "<Figure size 432x288 with 1 Axes>"
            ]
          },
          "metadata": {
            "tags": [],
            "needs_background": "light"
          }
        }
      ]
    },
    {
      "cell_type": "code",
      "metadata": {
        "id": "_ufpDr7MA4wF"
      },
      "source": [
        "a, b, c = np.polyfit(x, y, deg = 2)"
      ],
      "execution_count": 123,
      "outputs": []
    },
    {
      "cell_type": "code",
      "metadata": {
        "id": "d-pdkHyJDQUc"
      },
      "source": [
        ""
      ],
      "execution_count": null,
      "outputs": []
    },
    {
      "cell_type": "markdown",
      "metadata": {
        "id": "iA1wO6VCDQw_"
      },
      "source": [
        "# Projetinho \n",
        "\n"
      ]
    },
    {
      "cell_type": "code",
      "metadata": {
        "id": "tCvWKFJVDoKj"
      },
      "source": [
        "n = 636\n",
        "album_preco = 8.90\n",
        "pacote_preco = 2.50"
      ],
      "execution_count": 174,
      "outputs": []
    },
    {
      "cell_type": "code",
      "metadata": {
        "colab": {
          "base_uri": "https://localhost:8080/"
        },
        "id": "kz6SfQTWD4mX",
        "outputId": "dd14735a-888b-4d2c-a0b9-da915b58141b"
      },
      "source": [
        "pacotinho = np.random.choice(range(n), 5)\n",
        "pacotinho"
      ],
      "execution_count": 160,
      "outputs": [
        {
          "output_type": "execute_result",
          "data": {
            "text/plain": [
              "array([2, 3, 4, 2, 5])"
            ]
          },
          "metadata": {
            "tags": []
          },
          "execution_count": 160
        }
      ]
    },
    {
      "cell_type": "code",
      "metadata": {
        "id": "gEo_wAVjENvt"
      },
      "source": [
        "#album = np.zeros(n)\n",
        "\n"
      ],
      "execution_count": 161,
      "outputs": []
    },
    {
      "cell_type": "code",
      "metadata": {
        "colab": {
          "base_uri": "https://localhost:8080/"
        },
        "id": "22Zt-KDEFSzq",
        "outputId": "f55b988b-d28e-4cf9-f7a0-b94d94815741"
      },
      "source": [
        ""
      ],
      "execution_count": 165,
      "outputs": [
        {
          "output_type": "execute_result",
          "data": {
            "text/plain": [
              "False"
            ]
          },
          "metadata": {
            "tags": []
          },
          "execution_count": 165
        }
      ]
    },
    {
      "cell_type": "code",
      "metadata": {
        "id": "s80T9HV0GEe9"
      },
      "source": [
        "def SimulaAlbum():\n",
        "\n",
        "    album = np.zeros(n)\n",
        "    pacotes = 0\n",
        "\n",
        "    while not np.all(album > 0):\n",
        "        pacotinho = np.random.choice(range(n), 5)\n",
        "        pacotes += 1\n",
        "\n",
        "        for i in pacotinho:\n",
        "            album[i] += 1   \n",
        "\n",
        "    return pacotes"
      ],
      "execution_count": 179,
      "outputs": []
    },
    {
      "cell_type": "code",
      "metadata": {
        "id": "p583yEh8G6t9"
      },
      "source": [
        "res = []\n",
        "R = 1000\n",
        "\n",
        "for i in range(R):\n",
        "    res.append(SimulaAlbum())"
      ],
      "execution_count": 188,
      "outputs": []
    },
    {
      "cell_type": "code",
      "metadata": {
        "id": "xFGTPDK1L0BJ"
      },
      "source": [
        "res = [SimulaAlbum() for i in range(10)]"
      ],
      "execution_count": 198,
      "outputs": []
    },
    {
      "cell_type": "code",
      "metadata": {
        "id": "NV8VLT_sMGJY"
      },
      "source": [
        ""
      ],
      "execution_count": 196,
      "outputs": []
    },
    {
      "cell_type": "code",
      "metadata": {
        "colab": {
          "base_uri": "https://localhost:8080/"
        },
        "id": "IWQ9Y9OhMLdU",
        "outputId": "0588fe06-f764-4b43-9a0a-13737deb524a"
      },
      "source": [
        "x"
      ],
      "execution_count": 197,
      "outputs": [
        {
          "output_type": "execute_result",
          "data": {
            "text/plain": [
              "1"
            ]
          },
          "metadata": {
            "tags": []
          },
          "execution_count": 197
        }
      ]
    },
    {
      "cell_type": "code",
      "metadata": {
        "colab": {
          "base_uri": "https://localhost:8080/"
        },
        "id": "0x8C_y7zL8rJ",
        "outputId": "501d79c8-7ef3-4896-cdc1-f6a3e1c5870e"
      },
      "source": [
        "res"
      ],
      "execution_count": 193,
      "outputs": [
        {
          "output_type": "execute_result",
          "data": {
            "text/plain": [
              "[886, 1141, 1080, 1231, 1035, 891, 814, 1300, 1619, 744]"
            ]
          },
          "metadata": {
            "tags": []
          },
          "execution_count": 193
        }
      ]
    },
    {
      "cell_type": "code",
      "metadata": {
        "colab": {
          "base_uri": "https://localhost:8080/"
        },
        "id": "idWidJceH4oH",
        "outputId": "21f95076-ccd8-4dd6-a80a-4bc669315fb5"
      },
      "source": [
        "gasto_medio = np.mean(res)*pacote_preco + album_preco\n",
        "\n",
        "print('O custo médio para completar o álbum é de R${}'.format(round(gasto_medio, 2)))"
      ],
      "execution_count": 191,
      "outputs": [
        {
          "output_type": "stream",
          "text": [
            "O custo médio para completar o álbum é de R$2235.12\n"
          ],
          "name": "stdout"
        }
      ]
    }
  ]
}